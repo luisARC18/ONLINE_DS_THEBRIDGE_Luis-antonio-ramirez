{
 "cells": [
  {
   "cell_type": "raw",
   "id": "6ca240b7-fb56-4d4d-85c0-e47cc89c615d",
   "metadata": {},
   "source": [
    "print (\""
   ]
  },
  {
   "cell_type": "code",
   "execution_count": 1,
   "id": "a1736427-2b92-456e-846f-6939bfd878e9",
   "metadata": {},
   "outputs": [
    {
     "name": "stdout",
     "output_type": "stream",
     "text": [
      "hola mundo\n"
     ]
    }
   ],
   "source": [
    "print (\"hola mundo\")"
   ]
  },
  {
   "cell_type": "markdown",
   "id": "d21c3ed4-a4fa-4b0d-b27c-8d94fa392384",
   "metadata": {},
   "source": [
    "hola mundo"
   ]
  },
  {
   "cell_type": "code",
   "execution_count": null,
   "id": "a047c9b0-f8c1-472f-9ffb-c2e3d5c0d421",
   "metadata": {},
   "outputs": [],
   "source": []
  }
 ],
 "metadata": {
  "kernelspec": {
   "display_name": "Python 3 (ipykernel)",
   "language": "python",
   "name": "python3"
  },
  "language_info": {
   "codemirror_mode": {
    "name": "ipython",
    "version": 3
   },
   "file_extension": ".py",
   "mimetype": "text/x-python",
   "name": "python",
   "nbconvert_exporter": "python",
   "pygments_lexer": "ipython3",
   "version": "3.12.3"
  }
 },
 "nbformat": 4,
 "nbformat_minor": 5
}
